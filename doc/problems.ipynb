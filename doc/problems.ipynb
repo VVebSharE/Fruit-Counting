{
 "cells": [
  {
   "cell_type": "markdown",
   "metadata": {},
   "source": [
    "# Problem 1: \n",
    "\n",
    "When making dataset for object detection we encounter:\n",
    "\n",
    "\"RuntimeError: each element in list of batch should be of equal size\"\n",
    "\n",
    "when loading the dataset with DataLoader.\n",
    "\n",
    "# Explanation:\n",
    "\n",
    "This due to the collate_fn function in DataLoader. The collate_fn function is used to collate the data samples into a batch. The default collate_fn function in DataLoader assumes convert the list of samples into a tensor. If the samples are of different sizes, the default collate_fn function will throw an error.\n",
    "\n",
    "# Solution:\n",
    "\n",
    "Need custom collate_fn function\n",
    "\n",
    "1. collate_fn function that pads the samples to the same size before converting them into a tensor.\n",
    "2. collate_fn function that simply returns the samples without converting them into a tensor.\n"
   ]
  },
  {
   "cell_type": "markdown",
   "metadata": {},
   "source": [
    "# Problem 2:\n",
    "any model from resnet 18 to vit giving 38% accuracy (on classification) by predicting 1 count for all images,\n",
    "\n",
    "# Explanation:\n",
    "{8: 0.0410958904109589,\n",
    " 1: 0.3835616438356164,\n",
    " 4: 0.06164383561643835,\n",
    " 5: 0.0136986301369863,\n",
    " 3: 0.10273972602739725,\n",
    " 7: 0.04794520547945205,\n",
    " 13: 0.0273972602739726,\n",
    " 2: 0.1780821917808219,\n",
    " 27: 0.00684931506849315,\n",
    " 10: 0.00684931506849315,\n",
    " 9: 0.04794520547945205,\n",
    " 6: 0.04794520547945205,\n",
    " 12: 0.02054794520547945,\n",
    " 24: 0.00684931506849315,\n",
    " 22: 0.00684931506849315}\n",
    "\n",
    "is the distribution of the ground truth labels.\n"
   ]
  },
  {
   "cell_type": "markdown",
   "metadata": {},
   "source": [
    "# Problem 3:\n",
    "\n",
    "All bounding boxes should have positive height and width. Found invalid box [195.8333282470703, 416.6666564941406, 258.33331298828125, 333.33331298828125] for target at index 0."
   ]
  }
 ],
 "metadata": {
  "kernelspec": {
   "display_name": "fast",
   "language": "python",
   "name": "python3"
  },
  "language_info": {
   "name": "python",
   "version": "3.12.5"
  }
 },
 "nbformat": 4,
 "nbformat_minor": 2
}

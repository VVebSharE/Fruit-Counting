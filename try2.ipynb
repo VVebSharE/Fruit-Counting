{
 "cells": [
  {
   "cell_type": "code",
   "execution_count": 4,
   "metadata": {},
   "outputs": [
    {
     "name": "stdout",
     "output_type": "stream",
     "text": [
      "The autoreload extension is already loaded. To reload it, use:\n",
      "  %reload_ext autoreload\n"
     ]
    }
   ],
   "source": [
    "%load_ext autoreload\n",
    "%autoreload 2"
   ]
  },
  {
   "cell_type": "code",
   "execution_count": 5,
   "metadata": {},
   "outputs": [],
   "source": [
    "from core.Network import CountModel_cls, early_stop_callback, Backbone\n",
    "from core.data import AppleRoboFlowDataModule\n",
    "\n",
    "import lightning as L"
   ]
  },
  {
   "cell_type": "code",
   "execution_count": 6,
   "metadata": {},
   "outputs": [
    {
     "name": "stderr",
     "output_type": "stream",
     "text": [
      "GPU available: True (cuda), used: True\n",
      "TPU available: False, using: 0 TPU cores\n",
      "HPU available: False, using: 0 HPUs\n",
      "LOCAL_RANK: 0 - CUDA_VISIBLE_DEVICES: [0]\n",
      "\n",
      "  | Name    | Type    | Params | Mode \n",
      "--------------------------------------------\n",
      "0 | model   | ResNet  | 23.6 M | train\n",
      "1 | softmax | Softmax | 0      | train\n",
      "--------------------------------------------\n",
      "23.6 M    Trainable params\n",
      "0         Non-trainable params\n",
      "23.6 M    Total params\n",
      "94.262    Total estimated model params size (MB)\n",
      "152       Modules in train mode\n",
      "0         Modules in eval mode\n"
     ]
    },
    {
     "name": "stdout",
     "output_type": "stream",
     "text": [
      "loading annotations into memory...\n",
      "Done (t=0.01s)\n",
      "creating index...\n",
      "index created!\n",
      "loading annotations into memory...\n",
      "Done (t=0.00s)\n",
      "creating index...\n",
      "index created!\n",
      "                                                                           \r"
     ]
    },
    {
     "name": "stderr",
     "output_type": "stream",
     "text": [
      "c:\\Users\\Vaibhav\\anaconda3\\envs\\fast\\Lib\\site-packages\\lightning\\pytorch\\loops\\fit_loop.py:298: The number of training batches (14) is smaller than the logging interval Trainer(log_every_n_steps=50). Set a lower value for log_every_n_steps if you want to see logs for the training epoch.\n"
     ]
    },
    {
     "name": "stdout",
     "output_type": "stream",
     "text": [
      "Epoch 99: 100%|██████████| 14/14 [00:04<00:00,  2.90it/s, v_num=35]"
     ]
    },
    {
     "name": "stderr",
     "output_type": "stream",
     "text": [
      "`Trainer.fit` stopped: `max_epochs=100` reached.\n"
     ]
    },
    {
     "name": "stdout",
     "output_type": "stream",
     "text": [
      "Epoch 99: 100%|██████████| 14/14 [00:06<00:00,  2.32it/s, v_num=35]\n"
     ]
    }
   ],
   "source": [
    "dm = AppleRoboFlowDataModule()\n",
    "model = CountModel_cls()\n",
    "\n",
    "trainer = L.Trainer(max_epochs=100)\n",
    "\n",
    "trainer.fit(model, dm)"
   ]
  },
  {
   "cell_type": "code",
   "execution_count": 18,
   "metadata": {},
   "outputs": [
    {
     "name": "stderr",
     "output_type": "stream",
     "text": [
      "LOCAL_RANK: 0 - CUDA_VISIBLE_DEVICES: [0]\n"
     ]
    },
    {
     "name": "stdout",
     "output_type": "stream",
     "text": [
      "loading annotations into memory...\n",
      "Done (t=0.00s)\n",
      "creating index...\n",
      "index created!\n",
      "Testing DataLoader 0: 100%|██████████| 4/4 [00:00<00:00,  6.05it/s]\n",
      "────────────────────────────────────────────────────────────────────────────────────────────────────────────────────────\n",
      "       Test metric             DataLoader 0\n",
      "────────────────────────────────────────────────────────────────────────────────────────────────────────────────────────\n",
      "        accuracy            25.342464447021484\n",
      "    accuracy_count_1        57.142860412597656\n",
      "    accuracy_count_10               0.0\n",
      "    accuracy_count_12               0.0\n",
      "    accuracy_count_13               0.0\n",
      "    accuracy_count_2         3.846153974533081\n",
      "    accuracy_count_22               0.0\n",
      "    accuracy_count_24               0.0\n",
      "    accuracy_count_27               0.0\n",
      "    accuracy_count_3        13.333333969116211\n",
      "    accuracy_count_4         22.22222328186035\n",
      "    accuracy_count_5                0.0\n",
      "    accuracy_count_6                0.0\n",
      "    accuracy_count_7                0.0\n",
      "    accuracy_count_8                0.0\n",
      "    accuracy_count_9                0.0\n",
      "           mae              3.4178082942962646\n",
      "────────────────────────────────────────────────────────────────────────────────────────────────────────────────────────\n"
     ]
    },
    {
     "data": {
      "text/plain": [
       "[{'accuracy': 25.342464447021484,\n",
       "  'mae': 3.4178082942962646,\n",
       "  'accuracy_count_1': 57.142860412597656,\n",
       "  'accuracy_count_2': 3.846153974533081,\n",
       "  'accuracy_count_3': 13.333333969116211,\n",
       "  'accuracy_count_4': 22.22222328186035,\n",
       "  'accuracy_count_5': 0.0,\n",
       "  'accuracy_count_6': 0.0,\n",
       "  'accuracy_count_7': 0.0,\n",
       "  'accuracy_count_8': 0.0,\n",
       "  'accuracy_count_9': 0.0,\n",
       "  'accuracy_count_10': 0.0,\n",
       "  'accuracy_count_12': 0.0,\n",
       "  'accuracy_count_13': 0.0,\n",
       "  'accuracy_count_22': 0.0,\n",
       "  'accuracy_count_24': 0.0,\n",
       "  'accuracy_count_27': 0.0}]"
      ]
     },
     "execution_count": 18,
     "metadata": {},
     "output_type": "execute_result"
    }
   ],
   "source": [
    "trainer.test(model,dataloaders=dm.test_dataloader())\n"
   ]
  },
  {
   "cell_type": "code",
   "execution_count": 20,
   "metadata": {},
   "outputs": [
    {
     "name": "stderr",
     "output_type": "stream",
     "text": [
      "LOCAL_RANK: 0 - CUDA_VISIBLE_DEVICES: [0]\n"
     ]
    },
    {
     "name": "stdout",
     "output_type": "stream",
     "text": [
      "loading annotations into memory...\n",
      "Done (t=0.00s)\n",
      "creating index...\n",
      "index created!\n"
     ]
    },
    {
     "name": "stderr",
     "output_type": "stream",
     "text": [
      "c:\\Users\\Vaibhav\\anaconda3\\envs\\fast\\Lib\\site-packages\\lightning\\pytorch\\trainer\\connectors\\data_connector.py:475: Your `test_dataloader`'s sampler has shuffling enabled, it is strongly recommended that you turn shuffling off for val/test dataloaders.\n"
     ]
    },
    {
     "name": "stdout",
     "output_type": "stream",
     "text": [
      "Testing DataLoader 0: 100%|██████████| 14/14 [00:01<00:00,  9.41it/s]\n",
      "────────────────────────────────────────────────────────────────────────────────────────────────────────────────────────\n",
      "       Test metric             DataLoader 0\n",
      "────────────────────────────────────────────────────────────────────────────────────────────────────────────────────────\n",
      "        accuracy             36.16636276245117\n",
      "    accuracy_count_1         70.64676666259766\n",
      "    accuracy_count_10       15.384615898132324\n",
      "    accuracy_count_11              50.0\n",
      "    accuracy_count_12              40.0\n",
      "    accuracy_count_13               0.0\n",
      "    accuracy_count_14               0.0\n",
      "    accuracy_count_15               0.0\n",
      "    accuracy_count_16               0.0\n",
      "    accuracy_count_17               0.0\n",
      "    accuracy_count_18              100.0\n",
      "    accuracy_count_2        13.924050331115723\n",
      "    accuracy_count_20              100.0\n",
      "    accuracy_count_22               0.0\n",
      "    accuracy_count_23               0.0\n",
      "    accuracy_count_26              100.0\n",
      "    accuracy_count_3         1.470588207244873\n",
      "    accuracy_count_4               40.0\n",
      "    accuracy_count_5               10.0\n",
      "    accuracy_count_6        33.333335876464844\n",
      "    accuracy_count_7                0.0\n",
      "    accuracy_count_8                0.0\n",
      "    accuracy_count_9                0.0\n",
      "           mae               2.535262107849121\n",
      "────────────────────────────────────────────────────────────────────────────────────────────────────────────────────────\n"
     ]
    },
    {
     "data": {
      "text/plain": [
       "[{'accuracy': 36.16636276245117,\n",
       "  'mae': 2.535262107849121,\n",
       "  'accuracy_count_1': 70.64676666259766,\n",
       "  'accuracy_count_2': 13.924050331115723,\n",
       "  'accuracy_count_3': 1.470588207244873,\n",
       "  'accuracy_count_4': 40.0,\n",
       "  'accuracy_count_5': 10.0,\n",
       "  'accuracy_count_6': 33.333335876464844,\n",
       "  'accuracy_count_7': 0.0,\n",
       "  'accuracy_count_8': 0.0,\n",
       "  'accuracy_count_9': 0.0,\n",
       "  'accuracy_count_10': 15.384615898132324,\n",
       "  'accuracy_count_12': 40.0,\n",
       "  'accuracy_count_13': 0.0,\n",
       "  'accuracy_count_22': 0.0,\n",
       "  'accuracy_count_11': 50.0,\n",
       "  'accuracy_count_14': 0.0,\n",
       "  'accuracy_count_15': 0.0,\n",
       "  'accuracy_count_16': 0.0,\n",
       "  'accuracy_count_17': 0.0,\n",
       "  'accuracy_count_18': 100.0,\n",
       "  'accuracy_count_20': 100.0,\n",
       "  'accuracy_count_23': 0.0,\n",
       "  'accuracy_count_26': 100.0}]"
      ]
     },
     "execution_count": 20,
     "metadata": {},
     "output_type": "execute_result"
    }
   ],
   "source": [
    "trainer.test(model,dataloaders=dm.train_dataloader())"
   ]
  },
  {
   "cell_type": "code",
   "execution_count": 8,
   "metadata": {},
   "outputs": [
    {
     "name": "stdout",
     "output_type": "stream",
     "text": [
      "tensor([11,  1,  1,  1, 11,  4, 18,  1, 11,  1,  4,  1,  1,  4, 12,  1,  3,  1,\n",
      "         2,  3,  1,  6,  1, 11,  3,  1, 26,  1,  1,  1,  2,  6,  4,  1,  6,  4,\n",
      "         4,  6, 11,  6])\n"
     ]
    }
   ],
   "source": [
    "import torch\n",
    "\n",
    "batch = next(iter(dm.train_dataloader()))\n",
    "print(torch.argmax(model(batch[0]), dim=1))\n"
   ]
  },
  {
   "cell_type": "code",
   "execution_count": 9,
   "metadata": {},
   "outputs": [
    {
     "name": "stdout",
     "output_type": "stream",
     "text": [
      "tensor([6, 1, 1, 1, 1, 1, 5, 1, 1, 1, 1, 3, 5, 4, 1, 2, 1, 1, 3, 2, 2, 3, 1, 3,\n",
      "        2, 1, 5, 1, 1, 1, 7, 4, 4, 5, 6, 1, 4, 1, 2, 3])\n"
     ]
    }
   ],
   "source": [
    "print(batch[1]['count'])"
   ]
  },
  {
   "cell_type": "code",
   "execution_count": 17,
   "metadata": {},
   "outputs": [
    {
     "name": "stdout",
     "output_type": "stream",
     "text": [
      "loading annotations into memory...\n",
      "Done (t=0.00s)\n",
      "creating index...\n",
      "index created!\n"
     ]
    },
    {
     "data": {
      "text/plain": [
       "Dataset CustomCocoDataset\n",
       "    Number of datapoints: 146\n",
       "    Root location: D:/DATA/APPLE/Roboflow/valid\n",
       "    StandardTransform\n",
       "Transform: Compose(\n",
       "               RandomHorizontalFlip(p=0.5)\n",
       "               RandomVerticalFlip(p=0.5)\n",
       "               ToTensor()\n",
       "           )"
      ]
     },
     "execution_count": 17,
     "metadata": {},
     "output_type": "execute_result"
    }
   ],
   "source": [
    "dm.setup('test')\n",
    "dm.test_dataset"
   ]
  },
  {
   "cell_type": "code",
   "execution_count": 10,
   "metadata": {},
   "outputs": [],
   "source": [
    "#script to get each count in the dataset\n",
    "count = {}\n",
    "\n",
    "for images, targets in dm.train_dataloader():\n",
    "    # max_count = max(max_count, targets['count'].max().item())\n",
    "    for c in targets['count']:\n",
    "        c = c.item()\n",
    "        if c in count:\n",
    "            count[c] += 1\n",
    "        else:\n",
    "            count[c] = 1\n",
    "\n",
    "# print(f\"Maximum count in the dataset: {max_count}\")"
   ]
  },
  {
   "cell_type": "code",
   "execution_count": 11,
   "metadata": {},
   "outputs": [
    {
     "data": {
      "text/plain": [
       "{1: 201,\n",
       " 2: 79,\n",
       " 4: 45,\n",
       " 12: 10,\n",
       " 5: 30,\n",
       " 3: 68,\n",
       " 7: 22,\n",
       " 18: 4,\n",
       " 14: 2,\n",
       " 11: 8,\n",
       " 6: 27,\n",
       " 10: 13,\n",
       " 13: 4,\n",
       " 9: 11,\n",
       " 8: 18,\n",
       " 17: 3,\n",
       " 22: 1,\n",
       " 26: 1,\n",
       " 15: 3,\n",
       " 20: 1,\n",
       " 23: 1,\n",
       " 16: 1}"
      ]
     },
     "execution_count": 11,
     "metadata": {},
     "output_type": "execute_result"
    }
   ],
   "source": [
    "count"
   ]
  },
  {
   "cell_type": "code",
   "execution_count": 12,
   "metadata": {},
   "outputs": [
    {
     "data": {
      "text/plain": [
       "{1: 0.36347197106690776,\n",
       " 2: 0.14285714285714285,\n",
       " 4: 0.081374321880651,\n",
       " 12: 0.018083182640144666,\n",
       " 5: 0.054249547920433995,\n",
       " 3: 0.12296564195298372,\n",
       " 7: 0.039783001808318265,\n",
       " 18: 0.007233273056057866,\n",
       " 14: 0.003616636528028933,\n",
       " 11: 0.014466546112115732,\n",
       " 6: 0.048824593128390596,\n",
       " 10: 0.023508137432188065,\n",
       " 13: 0.007233273056057866,\n",
       " 9: 0.019891500904159132,\n",
       " 8: 0.0325497287522604,\n",
       " 17: 0.0054249547920434,\n",
       " 22: 0.0018083182640144665,\n",
       " 26: 0.0018083182640144665,\n",
       " 15: 0.0054249547920434,\n",
       " 20: 0.0018083182640144665,\n",
       " 23: 0.0018083182640144665,\n",
       " 16: 0.0018083182640144665}"
      ]
     },
     "execution_count": 12,
     "metadata": {},
     "output_type": "execute_result"
    }
   ],
   "source": [
    "#percentage of each count in the dataset\n",
    "total = sum(count.values())\n",
    "percentage = {k: v/total for k, v in count.items()}\n",
    "percentage\n"
   ]
  },
  {
   "cell_type": "code",
   "execution_count": 13,
   "metadata": {},
   "outputs": [
    {
     "data": {
      "text/plain": [
       "tensor([0.0753, 0.0004, 0.0010, 0.0011, 0.0017, 0.0025, 0.0028, 0.0034, 0.0042,\n",
       "        0.0068, 0.0058, 0.0094, 0.0075, 0.0188, 0.0376, 0.0251, 0.0753, 0.0251,\n",
       "        0.0188, 0.0753, 0.0753, 0.0753, 0.0753, 0.0753, 0.0753, 0.0753, 0.0753,\n",
       "        0.0753], device='cuda:0')"
      ]
     },
     "execution_count": 13,
     "metadata": {},
     "output_type": "execute_result"
    }
   ],
   "source": [
    "\n",
    "class self:\n",
    "    pass\n",
    "self.max_count = 28\n",
    "self.count_freq = {\n",
    "    3: 0.12296564195298372,\n",
    "    7: 0.039783001808318265,\n",
    "    12: 0.018083182640144666,\n",
    "    2: 0.14285714285714285,\n",
    "    5: 0.054249547920433995,\n",
    "    17: 0.0054249547920434,\n",
    "    14: 0.003616636528028933,\n",
    "    4: 0.081374321880651,\n",
    "    1: 0.36347197106690776,\n",
    "    22: 0.0018083182640144665,\n",
    "    6: 0.048824593128390596,\n",
    "    10: 0.023508137432188065,\n",
    "    8: 0.0325497287522604,\n",
    "    15: 0.0054249547920434,\n",
    "    9: 0.019891500904159132,\n",
    "    18: 0.007233273056057866,\n",
    "    11: 0.014466546112115732,\n",
    "    13: 0.007233273056057866,\n",
    "    20: 0.0018083182640144665,\n",
    "    26: 0.0018083182640144665,\n",
    "    16: 0.0018083182640144665,\n",
    "    23: 0.0018083182640144665\n",
    "}\n",
    "\n",
    "for i in range(self.max_count):\n",
    "    if i not in self.count_freq:\n",
    "        self.count_freq[i] = 0.0018083182640144665\n",
    "\n",
    "self.count_freq = [1/self.count_freq[i] for i in range(self.max_count)]\n",
    "self.count_freq = torch.tensor(self.count_freq)\n",
    "self.count_freq = self.count_freq / torch.sum(self.count_freq)\n",
    "self.count_freq = self.count_freq.float().cuda()\n",
    "self.count_freq"
   ]
  }
 ],
 "metadata": {
  "kernelspec": {
   "display_name": "fast",
   "language": "python",
   "name": "python3"
  },
  "language_info": {
   "codemirror_mode": {
    "name": "ipython",
    "version": 3
   },
   "file_extension": ".py",
   "mimetype": "text/x-python",
   "name": "python",
   "nbconvert_exporter": "python",
   "pygments_lexer": "ipython3",
   "version": "3.12.5"
  }
 },
 "nbformat": 4,
 "nbformat_minor": 2
}

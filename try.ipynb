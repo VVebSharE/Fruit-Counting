{
 "cells": [
  {
   "cell_type": "code",
   "execution_count": 76,
   "metadata": {},
   "outputs": [
    {
     "name": "stdout",
     "output_type": "stream",
     "text": [
      "The autoreload extension is already loaded. To reload it, use:\n",
      "  %reload_ext autoreload\n"
     ]
    }
   ],
   "source": [
    "%load_ext autoreload\n",
    "%autoreload 2"
   ]
  },
  {
   "cell_type": "code",
   "execution_count": 77,
   "metadata": {},
   "outputs": [],
   "source": [
    "from core.Network import CountModel_reg, early_stop_callback\n",
    "from core.data import AppleRoboFlowDataModule\n",
    "\n",
    "import lightning as L"
   ]
  },
  {
   "cell_type": "code",
   "execution_count": 78,
   "metadata": {},
   "outputs": [
    {
     "name": "stderr",
     "output_type": "stream",
     "text": [
      "GPU available: True (cuda), used: True\n",
      "TPU available: False, using: 0 TPU cores\n",
      "HPU available: False, using: 0 HPUs\n",
      "LOCAL_RANK: 0 - CUDA_VISIBLE_DEVICES: [0]\n",
      "\n",
      "  | Name  | Type   | Params | Mode \n",
      "-----------------------------------------\n",
      "0 | model | ResNet | 11.2 M | train\n",
      "-----------------------------------------\n",
      "11.2 M    Trainable params\n",
      "0         Non-trainable params\n",
      "11.2 M    Total params\n",
      "44.708    Total estimated model params size (MB)\n",
      "68        Modules in train mode\n",
      "0         Modules in eval mode\n"
     ]
    },
    {
     "name": "stdout",
     "output_type": "stream",
     "text": [
      "loading annotations into memory...\n",
      "Done (t=0.02s)\n",
      "creating index...\n",
      "index created!\n",
      "loading annotations into memory...\n",
      "Done (t=0.00s)\n",
      "creating index...\n",
      "index created!\n",
      "Epoch 199: 100%|██████████| 9/9 [00:01<00:00,  5.27it/s, v_num=49]         "
     ]
    },
    {
     "name": "stderr",
     "output_type": "stream",
     "text": [
      "`Trainer.fit` stopped: `max_epochs=200` reached.\n"
     ]
    },
    {
     "name": "stdout",
     "output_type": "stream",
     "text": [
      "Epoch 199: 100%|██████████| 9/9 [00:02<00:00,  4.28it/s, v_num=49]\n"
     ]
    }
   ],
   "source": [
    "dm = AppleRoboFlowDataModule()\n",
    "model = CountModel_reg()\n",
    "\n",
    "trainer = L.Trainer(max_epochs=200,log_every_n_steps=1)\n",
    "\n",
    "trainer.fit(model, dm)"
   ]
  },
  {
   "cell_type": "code",
   "execution_count": 79,
   "metadata": {},
   "outputs": [
    {
     "name": "stderr",
     "output_type": "stream",
     "text": [
      "LOCAL_RANK: 0 - CUDA_VISIBLE_DEVICES: [0]\n"
     ]
    },
    {
     "name": "stdout",
     "output_type": "stream",
     "text": [
      "loading annotations into memory...\n",
      "Done (t=0.00s)\n",
      "creating index...\n",
      "index created!\n"
     ]
    },
    {
     "name": "stderr",
     "output_type": "stream",
     "text": [
      "c:\\Users\\Vaibhav\\anaconda3\\envs\\fast\\Lib\\site-packages\\lightning\\pytorch\\trainer\\connectors\\data_connector.py:475: Your `test_dataloader`'s sampler has shuffling enabled, it is strongly recommended that you turn shuffling off for val/test dataloaders.\n"
     ]
    },
    {
     "name": "stdout",
     "output_type": "stream",
     "text": [
      "Testing DataLoader 0: 100%|██████████| 9/9 [00:00<00:00, 12.56it/s] \n",
      "────────────────────────────────────────────────────────────────────────────────────────────────────────────────────────\n",
      "       Test metric             DataLoader 0\n",
      "────────────────────────────────────────────────────────────────────────────────────────────────────────────────────────\n",
      "        accuracy              97.106689453125\n",
      "    accuracy_count_1         99.00497436523438\n",
      "    accuracy_count_10        69.23077392578125\n",
      "    accuracy_count_11              100.0\n",
      "    accuracy_count_12              90.0\n",
      "    accuracy_count_13              100.0\n",
      "    accuracy_count_14              100.0\n",
      "    accuracy_count_15              100.0\n",
      "    accuracy_count_16              100.0\n",
      "    accuracy_count_17              100.0\n",
      "    accuracy_count_18              75.0\n",
      "    accuracy_count_2               100.0\n",
      "    accuracy_count_20               0.0\n",
      "    accuracy_count_22               0.0\n",
      "    accuracy_count_23              100.0\n",
      "    accuracy_count_26               0.0\n",
      "    accuracy_count_3         98.52941131591797\n",
      "    accuracy_count_4               100.0\n",
      "    accuracy_count_5               100.0\n",
      "    accuracy_count_6         96.29629516601562\n",
      "    accuracy_count_7         95.45454406738281\n",
      "    accuracy_count_8         94.44444274902344\n",
      "    accuracy_count_9         90.90909576416016\n",
      "           mae             0.028933092951774597\n",
      "────────────────────────────────────────────────────────────────────────────────────────────────────────────────────────\n"
     ]
    },
    {
     "data": {
      "text/plain": [
       "[{'accuracy': 97.106689453125,\n",
       "  'mae': 0.028933092951774597,\n",
       "  'accuracy_count_1': 99.00497436523438,\n",
       "  'accuracy_count_2': 100.0,\n",
       "  'accuracy_count_3': 98.52941131591797,\n",
       "  'accuracy_count_4': 100.0,\n",
       "  'accuracy_count_5': 100.0,\n",
       "  'accuracy_count_6': 96.29629516601562,\n",
       "  'accuracy_count_7': 95.45454406738281,\n",
       "  'accuracy_count_8': 94.44444274902344,\n",
       "  'accuracy_count_9': 90.90909576416016,\n",
       "  'accuracy_count_10': 69.23077392578125,\n",
       "  'accuracy_count_11': 100.0,\n",
       "  'accuracy_count_12': 90.0,\n",
       "  'accuracy_count_13': 100.0,\n",
       "  'accuracy_count_14': 100.0,\n",
       "  'accuracy_count_15': 100.0,\n",
       "  'accuracy_count_16': 100.0,\n",
       "  'accuracy_count_17': 100.0,\n",
       "  'accuracy_count_18': 75.0,\n",
       "  'accuracy_count_20': 0.0,\n",
       "  'accuracy_count_22': 0.0,\n",
       "  'accuracy_count_23': 100.0,\n",
       "  'accuracy_count_26': 0.0}]"
      ]
     },
     "execution_count": 79,
     "metadata": {},
     "output_type": "execute_result"
    }
   ],
   "source": [
    "trainer.test(model, dataloaders=dm.train_dataloader())\n"
   ]
  },
  {
   "cell_type": "code",
   "execution_count": 80,
   "metadata": {},
   "outputs": [
    {
     "name": "stderr",
     "output_type": "stream",
     "text": [
      "LOCAL_RANK: 0 - CUDA_VISIBLE_DEVICES: [0]\n"
     ]
    },
    {
     "name": "stdout",
     "output_type": "stream",
     "text": [
      "loading annotations into memory...\n",
      "Done (t=0.00s)\n",
      "creating index...\n",
      "index created!\n",
      "Testing DataLoader 0: 100%|██████████| 3/3 [00:00<00:00,  7.08it/s]\n",
      "────────────────────────────────────────────────────────────────────────────────────────────────────────────────────────\n",
      "       Test metric             DataLoader 0\n",
      "────────────────────────────────────────────────────────────────────────────────────────────────────────────────────────\n",
      "        accuracy            45.890411376953125\n",
      "    accuracy_count_1               62.5\n",
      "    accuracy_count_10               0.0\n",
      "    accuracy_count_12       33.333335876464844\n",
      "    accuracy_count_13               0.0\n",
      "    accuracy_count_2         57.69230651855469\n",
      "    accuracy_count_22               0.0\n",
      "    accuracy_count_24               0.0\n",
      "    accuracy_count_27               0.0\n",
      "    accuracy_count_3        53.333335876464844\n",
      "    accuracy_count_4         55.55555725097656\n",
      "    accuracy_count_5                0.0\n",
      "    accuracy_count_6                0.0\n",
      "    accuracy_count_7                0.0\n",
      "    accuracy_count_8        16.666667938232422\n",
      "    accuracy_count_9        28.571430206298828\n",
      "           mae               1.082191824913025\n",
      "────────────────────────────────────────────────────────────────────────────────────────────────────────────────────────\n"
     ]
    },
    {
     "data": {
      "text/plain": [
       "[{'accuracy': 45.890411376953125,\n",
       "  'mae': 1.082191824913025,\n",
       "  'accuracy_count_1': 62.5,\n",
       "  'accuracy_count_2': 57.69230651855469,\n",
       "  'accuracy_count_3': 53.333335876464844,\n",
       "  'accuracy_count_4': 55.55555725097656,\n",
       "  'accuracy_count_5': 0.0,\n",
       "  'accuracy_count_6': 0.0,\n",
       "  'accuracy_count_7': 0.0,\n",
       "  'accuracy_count_8': 16.666667938232422,\n",
       "  'accuracy_count_9': 28.571430206298828,\n",
       "  'accuracy_count_10': 0.0,\n",
       "  'accuracy_count_12': 33.333335876464844,\n",
       "  'accuracy_count_13': 0.0,\n",
       "  'accuracy_count_22': 0.0,\n",
       "  'accuracy_count_24': 0.0,\n",
       "  'accuracy_count_27': 0.0}]"
      ]
     },
     "execution_count": 80,
     "metadata": {},
     "output_type": "execute_result"
    }
   ],
   "source": [
    "trainer.test(model, datamodule=dm)"
   ]
  },
  {
   "cell_type": "code",
   "execution_count": 81,
   "metadata": {},
   "outputs": [],
   "source": [
    "#script to get maximum count in the dataset\n",
    "# max_count = 0\n",
    "\n",
    "# for images, targets in dm.val_dataloader():\n",
    "#     max_count = max(max_count, targets['count'].max().item())\n",
    "\n",
    "# print(f\"Maximum count in the dataset: {max_count}\")"
   ]
  },
  {
   "cell_type": "code",
   "execution_count": 82,
   "metadata": {},
   "outputs": [],
   "source": [
    "from core.Network import Backbone"
   ]
  },
  {
   "cell_type": "code",
   "execution_count": 83,
   "metadata": {},
   "outputs": [
    {
     "name": "stderr",
     "output_type": "stream",
     "text": [
      "GPU available: True (cuda), used: True\n",
      "TPU available: False, using: 0 TPU cores\n",
      "HPU available: False, using: 0 HPUs\n",
      "LOCAL_RANK: 0 - CUDA_VISIBLE_DEVICES: [0]\n",
      "\n",
      "  | Name  | Type   | Params | Mode \n",
      "-----------------------------------------\n",
      "0 | model | ResNet | 23.5 M | train\n",
      "-----------------------------------------\n",
      "23.5 M    Trainable params\n",
      "0         Non-trainable params\n",
      "23.5 M    Total params\n",
      "94.040    Total estimated model params size (MB)\n",
      "151       Modules in train mode\n",
      "0         Modules in eval mode\n"
     ]
    },
    {
     "name": "stdout",
     "output_type": "stream",
     "text": [
      "loading annotations into memory...\n",
      "Done (t=0.01s)\n",
      "creating index...\n",
      "index created!\n",
      "loading annotations into memory...\n",
      "Done (t=0.00s)\n",
      "creating index...\n",
      "index created!\n",
      "Epoch 199: 100%|██████████| 9/9 [00:04<00:00,  1.91it/s, v_num=50]         "
     ]
    },
    {
     "name": "stderr",
     "output_type": "stream",
     "text": [
      "`Trainer.fit` stopped: `max_epochs=200` reached.\n"
     ]
    },
    {
     "name": "stdout",
     "output_type": "stream",
     "text": [
      "Epoch 199: 100%|██████████| 9/9 [00:05<00:00,  1.58it/s, v_num=50]\n"
     ]
    },
    {
     "name": "stderr",
     "output_type": "stream",
     "text": [
      "LOCAL_RANK: 0 - CUDA_VISIBLE_DEVICES: [0]\n"
     ]
    },
    {
     "name": "stdout",
     "output_type": "stream",
     "text": [
      "loading annotations into memory...\n",
      "Done (t=0.00s)\n",
      "creating index...\n",
      "index created!\n",
      "Testing DataLoader 0: 100%|██████████| 9/9 [00:01<00:00,  6.42it/s]\n",
      "────────────────────────────────────────────────────────────────────────────────────────────────────────────────────────\n",
      "       Test metric             DataLoader 0\n",
      "────────────────────────────────────────────────────────────────────────────────────────────────────────────────────────\n",
      "        accuracy             98.91500854492188\n",
      "    accuracy_count_1               100.0\n",
      "    accuracy_count_10        92.30769348144531\n",
      "    accuracy_count_11              100.0\n",
      "    accuracy_count_12              100.0\n",
      "    accuracy_count_13              100.0\n",
      "    accuracy_count_14              100.0\n",
      "    accuracy_count_15              100.0\n",
      "    accuracy_count_16              100.0\n",
      "    accuracy_count_17              100.0\n",
      "    accuracy_count_18              100.0\n",
      "    accuracy_count_2               100.0\n",
      "    accuracy_count_20              100.0\n",
      "    accuracy_count_22              100.0\n",
      "    accuracy_count_23              100.0\n",
      "    accuracy_count_26               0.0\n",
      "    accuracy_count_3               100.0\n",
      "    accuracy_count_4               100.0\n",
      "    accuracy_count_5               100.0\n",
      "    accuracy_count_6         96.29629516601562\n",
      "    accuracy_count_7               100.0\n",
      "    accuracy_count_8         94.44444274902344\n",
      "    accuracy_count_9         81.81818389892578\n",
      "           mae             0.010849909856915474\n",
      "────────────────────────────────────────────────────────────────────────────────────────────────────────────────────────\n"
     ]
    },
    {
     "name": "stderr",
     "output_type": "stream",
     "text": [
      "LOCAL_RANK: 0 - CUDA_VISIBLE_DEVICES: [0]\n"
     ]
    },
    {
     "name": "stdout",
     "output_type": "stream",
     "text": [
      "loading annotations into memory...\n",
      "Done (t=0.00s)\n",
      "creating index...\n",
      "index created!\n",
      "Testing DataLoader 0: 100%|██████████| 3/3 [00:00<00:00,  4.63it/s]\n",
      "────────────────────────────────────────────────────────────────────────────────────────────────────────────────────────\n",
      "       Test metric             DataLoader 0\n",
      "────────────────────────────────────────────────────────────────────────────────────────────────────────────────────────\n",
      "        accuracy             52.73972702026367\n",
      "    accuracy_count_1         73.21428680419922\n",
      "    accuracy_count_10               0.0\n",
      "    accuracy_count_12               0.0\n",
      "    accuracy_count_13               0.0\n",
      "    accuracy_count_2         57.69230651855469\n",
      "    accuracy_count_22               0.0\n",
      "    accuracy_count_24               0.0\n",
      "    accuracy_count_27               0.0\n",
      "    accuracy_count_3         86.66666412353516\n",
      "    accuracy_count_4         44.4444465637207\n",
      "    accuracy_count_5                0.0\n",
      "    accuracy_count_6        28.571430206298828\n",
      "    accuracy_count_7                0.0\n",
      "    accuracy_count_8        16.666667938232422\n",
      "    accuracy_count_9        14.285715103149414\n",
      "           mae              0.9452054500579834\n",
      "────────────────────────────────────────────────────────────────────────────────────────────────────────────────────────\n"
     ]
    },
    {
     "data": {
      "text/plain": [
       "[{'accuracy': 52.73972702026367,\n",
       "  'mae': 0.9452054500579834,\n",
       "  'accuracy_count_1': 73.21428680419922,\n",
       "  'accuracy_count_2': 57.69230651855469,\n",
       "  'accuracy_count_3': 86.66666412353516,\n",
       "  'accuracy_count_4': 44.4444465637207,\n",
       "  'accuracy_count_5': 0.0,\n",
       "  'accuracy_count_6': 28.571430206298828,\n",
       "  'accuracy_count_7': 0.0,\n",
       "  'accuracy_count_8': 16.666667938232422,\n",
       "  'accuracy_count_9': 14.285715103149414,\n",
       "  'accuracy_count_10': 0.0,\n",
       "  'accuracy_count_12': 0.0,\n",
       "  'accuracy_count_13': 0.0,\n",
       "  'accuracy_count_22': 0.0,\n",
       "  'accuracy_count_24': 0.0,\n",
       "  'accuracy_count_27': 0.0}]"
      ]
     },
     "execution_count": 83,
     "metadata": {},
     "output_type": "execute_result"
    }
   ],
   "source": [
    "dm = AppleRoboFlowDataModule()\n",
    "model = CountModel_reg(Backbone.RESNET50)\n",
    "trainer = L.Trainer(max_epochs=200, log_every_n_steps=1)\n",
    "\n",
    "trainer.fit(model, dm)\n",
    "trainer.test(model, dataloaders=dm.train_dataloader())\n",
    "trainer.test(model, datamodule=dm)"
   ]
  },
  {
   "cell_type": "code",
   "execution_count": null,
   "metadata": {},
   "outputs": [
    {
     "name": "stderr",
     "output_type": "stream",
     "text": [
      "GPU available: True (cuda), used: True\n",
      "TPU available: False, using: 0 TPU cores\n",
      "HPU available: False, using: 0 HPUs\n",
      "LOCAL_RANK: 0 - CUDA_VISIBLE_DEVICES: [0]\n",
      "\n",
      "  | Name  | Type   | Params | Mode \n",
      "-----------------------------------------\n",
      "0 | model | ResNet | 42.5 M | train\n",
      "-----------------------------------------\n",
      "42.5 M    Trainable params\n",
      "0         Non-trainable params\n",
      "42.5 M    Total params\n",
      "170.009   Total estimated model params size (MB)\n",
      "287       Modules in train mode\n",
      "0         Modules in eval mode\n"
     ]
    },
    {
     "name": "stdout",
     "output_type": "stream",
     "text": [
      "loading annotations into memory...\n",
      "Done (t=0.02s)\n",
      "creating index...\n",
      "index created!\n",
      "loading annotations into memory...\n",
      "Done (t=0.00s)\n",
      "creating index...\n",
      "index created!\n",
      "Epoch 5:  11%|█         | 1/9 [00:00<00:04,  1.69it/s, v_num=51]           "
     ]
    }
   ],
   "source": [
    "dm = AppleRoboFlowDataModule()\n",
    "model = CountModel_reg(Backbone.RESNET101)\n",
    "trainer = L.Trainer(max_epochs=200, log_every_n_steps=1)\n",
    "\n",
    "trainer.fit(model, dm)\n",
    "trainer.test(model, dataloaders=dm.train_dataloader())\n",
    "trainer.test(model, datamodule=dm)"
   ]
  },
  {
   "cell_type": "code",
   "execution_count": null,
   "metadata": {},
   "outputs": [],
   "source": [
    "dm = AppleRoboFlowDataModule()\n",
    "model = CountModel_reg(Backbone.VIT)\n",
    "trainer = L.Trainer(max_epochs=200, log_every_n_steps=1)\n",
    "\n",
    "trainer.fit(model, dm)\n",
    "trainer.test(model, dataloaders=dm.train_dataloader())\n",
    "trainer.test(model, datamodule=dm)"
   ]
  }
 ],
 "metadata": {
  "kernelspec": {
   "display_name": "fast",
   "language": "python",
   "name": "python3"
  },
  "language_info": {
   "codemirror_mode": {
    "name": "ipython",
    "version": 3
   },
   "file_extension": ".py",
   "mimetype": "text/x-python",
   "name": "python",
   "nbconvert_exporter": "python",
   "pygments_lexer": "ipython3",
   "version": "3.12.5"
  }
 },
 "nbformat": 4,
 "nbformat_minor": 2
}
